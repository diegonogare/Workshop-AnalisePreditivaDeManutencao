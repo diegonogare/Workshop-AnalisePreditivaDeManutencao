{
  "nbformat": 4,
  "nbformat_minor": 0,
  "metadata": {
    "colab": {
      "provenance": [],
      "collapsed_sections": [
        "tiKKzUhPF9lR"
      ],
      "authorship_tag": "ABX9TyPtckSHqJ76WtbVj0LWs1r+",
      "include_colab_link": true
    },
    "kernelspec": {
      "name": "python3",
      "display_name": "Python 3"
    },
    "language_info": {
      "name": "python"
    }
  },
  "cells": [
    {
      "cell_type": "markdown",
      "metadata": {
        "id": "view-in-github",
        "colab_type": "text"
      },
      "source": [
        "<a href=\"https://colab.research.google.com/github/diegonogare/Workshop-AnalisePreditivaDeManutencao/blob/main/Workshop_AnalisePreditivaDeManutencao.ipynb\" target=\"_parent\"><img src=\"https://colab.research.google.com/assets/colab-badge.svg\" alt=\"Open In Colab\"/></a>"
      ]
    },
    {
      "cell_type": "markdown",
      "source": [
        "# Setup do ambiente"
      ],
      "metadata": {
        "id": "XQ8L7iwhFrQS"
      }
    },
    {
      "cell_type": "code",
      "source": [
        "import pandas as pd\n",
        "import numpy as np\n",
        "import matplotlib.pyplot as plt\n",
        "import seaborn as sns\n",
        "from sklearn.model_selection import train_test_split\n",
        "from sklearn.preprocessing import StandardScaler\n",
        "from sklearn.linear_model import LogisticRegression\n",
        "from sklearn.metrics import confusion_matrix, classification_report, accuracy_score, roc_curve, auc\n",
        "from sklearn.ensemble import IsolationForest\n",
        "import warnings\n",
        "\n",
        "warnings.filterwarnings('ignore')\n",
        "\n",
        "sns.set(style=\"whitegrid\")\n",
        "plt.rcParams['figure.figsize'] = (10, 7)\n",
        "\n",
        "print(\"Bibliotecas importadas com sucesso!\")"
      ],
      "metadata": {
        "id": "XDh5y4THFjgk"
      },
      "execution_count": null,
      "outputs": []
    },
    {
      "cell_type": "markdown",
      "source": [
        "# Carregamento dos Dados"
      ],
      "metadata": {
        "id": "tiKKzUhPF9lR"
      }
    },
    {
      "cell_type": "markdown",
      "source": [
        "## Carregar o dataset\n"
      ],
      "metadata": {
        "id": "xiOxmFdNNU9i"
      }
    },
    {
      "cell_type": "markdown",
      "source": [
        "Carregar o dataset diretamente do [Github](https://github.com/diegonogare/Workshop-AnalisePreditivaDeManutencao/blob/main/conjuntoDados.csv)."
      ],
      "metadata": {
        "id": "8K4GoCLgNc_g"
      }
    },
    {
      "cell_type": "code",
      "source": [
        "df = pd.read_csv('https://raw.githubusercontent.com/diegonogare/Workshop-AnalisePreditivaDeManutencao/refs/heads/main/conjuntoDados.csv',\n",
        "                 names=['ID', 'Timestamp', 'Temperatura', 'Sinais', 'Desligou'])"
      ],
      "metadata": {
        "id": "tAsNnkypLx8Y"
      },
      "execution_count": null,
      "outputs": []
    },
    {
      "cell_type": "code",
      "source": [
        "df['Timestamp'] = pd.to_datetime(df['Timestamp'])\n",
        "\n",
        "df['Dia'] = df['Timestamp'].dt.day\n",
        "df['DiaSemana'] = df['Timestamp'].dt.day_name()\n",
        "df['Hora'] = df['Timestamp'].dt.time\n",
        "\n",
        "df = df[df['Dia'] != (7)]\n",
        "df = df[df['Dia'] != (29)]\n"
      ],
      "metadata": {
        "id": "NXtPQuUjTOmX"
      },
      "execution_count": null,
      "outputs": []
    },
    {
      "cell_type": "markdown",
      "source": [
        "## Conhecer o básico do dataset"
      ],
      "metadata": {
        "id": "SuORE-hkNmaz"
      }
    },
    {
      "cell_type": "markdown",
      "source": [
        "Após o dataset ser carregado, é importante analisar seu conteúdo para conhecer o que há lá dentro."
      ],
      "metadata": {
        "id": "gqinTC8ZNqoO"
      }
    },
    {
      "cell_type": "code",
      "source": [
        "print(\"\\nDataset carregado com sucesso!\")\n",
        "print(\"Formato do dataset (linhas x colunas):\", df.shape)\n",
        "\n",
        "print(\"\\nPrimeiras 5 linhas do dataset:\")\n",
        "print(df.head())\n",
        "\n",
        "print(\"\\nInformações do dataset:\")\n",
        "df.info()\n",
        "\n",
        "print(\"\\nEstatística descritivas:\")\n",
        "print(df.describe())\n",
        "\n",
        "print(\"\\nValores nulos por Coluna:\")\n",
        "print(df.isnull().sum())"
      ],
      "metadata": {
        "id": "dtG4-Cn6LfVJ"
      },
      "execution_count": null,
      "outputs": []
    },
    {
      "cell_type": "markdown",
      "source": [
        "# Análise Exploratória Descritiva (EDA)"
      ],
      "metadata": {
        "id": "wNcQrBqHMsaq"
      }
    },
    {
      "cell_type": "code",
      "source": [
        "colunas_numericas = df.select_dtypes(include=np.number).columns.tolist()\n",
        "colunas_numericas\n",
        "\n",
        "colunas_numericas.remove('ID') #ID da transação\n",
        "colunas_numericas.remove('Desligou') #Flag se desligou ou não\n",
        "colunas_numericas\n"
      ],
      "metadata": {
        "id": "rPo4Z1n7Fj4D"
      },
      "execution_count": null,
      "outputs": []
    },
    {
      "cell_type": "code",
      "source": [
        "for col in colunas_numericas:\n",
        "    sns.histplot(df[col], kde=True, bins=30)\n",
        "    plt.title(f'Distribuição de {col}')\n",
        "    plt.xlabel(col)\n",
        "    plt.ylabel('Frequência')\n",
        "    plt.show()\n",
        "    print(\"\\n\")"
      ],
      "metadata": {
        "id": "4A8OxtlWFj6O"
      },
      "execution_count": null,
      "outputs": []
    },
    {
      "cell_type": "code",
      "source": [
        "for col in colunas_numericas:\n",
        "    sns.boxplot(x='Desligou', y=col, data=df)\n",
        "    plt.title(f'{col} vs. Desligou')\n",
        "    plt.show()\n",
        "    print(\"\\n\")"
      ],
      "metadata": {
        "id": "Dsir3lL3Fjuv"
      },
      "execution_count": null,
      "outputs": []
    },
    {
      "cell_type": "code",
      "source": [
        "#Pela exploração que fizemos, apesar de Dia ser um valor numério, não tem relação com o objetivo que temos. Vamos remover\n",
        "colunas_numericas.remove('Dia')"
      ],
      "metadata": {
        "id": "NTyfXNfNS2yZ"
      },
      "execution_count": null,
      "outputs": []
    },
    {
      "cell_type": "code",
      "source": [
        "correlation_matrix = df[colunas_numericas + ['Desligou']].corr()\n",
        "sns.heatmap(correlation_matrix, annot=True, cmap='coolwarm', fmt=\".2f\")\n",
        "plt.title('Matriz de Correlação')\n",
        "plt.show()"
      ],
      "metadata": {
        "id": "TTJVlAijFjxF"
      },
      "execution_count": null,
      "outputs": []
    },
    {
      "cell_type": "markdown",
      "source": [
        "### 1 - Quais horários a temperatura da fábrica é mais alta?"
      ],
      "metadata": {
        "id": "NyWpqdF8cB2O"
      }
    },
    {
      "cell_type": "code",
      "source": [
        "temperatura = df.copy()\n",
        "temperatura.drop(columns=['Timestamp', 'Dia', 'Sinais', 'Desligou'], inplace=True )\n",
        "\n",
        "temperatura.groupby('Hora')['Temperatura'].mean('Temperatura').plot(kind='line', marker='')\n",
        "plt.title('Temperatura Média por Hora do Dia')\n",
        "plt.xlabel('Hora do Dia')\n",
        "plt.ylabel('Temperatura Média (°C)')\n",
        "plt.grid(True)\n",
        "plt.show()\n"
      ],
      "metadata": {
        "id": "Z9ewhR3CS21a"
      },
      "execution_count": null,
      "outputs": []
    },
    {
      "cell_type": "code",
      "source": [
        "for dia in df['Dia'].unique():\n",
        "    temperaturaDiaria = df.copy()\n",
        "    temperaturaDiaria = temperaturaDiaria[temperaturaDiaria['Dia'] == dia]\n",
        "    temperaturaDiaria.drop(columns=['Timestamp', 'Sinais', 'Desligou'], inplace=True )\n",
        "    diaSemana = temperaturaDiaria['DiaSemana'].iloc[0]\n",
        "\n",
        "    temperaturaDiaria.groupby('Hora')['Temperatura'].mean('Temperatura').plot(kind='line', marker='')\n",
        "    plt.title(f'Temperatura Média por Hora do {dia} - {diaSemana}')\n",
        "    plt.xlabel('Hora do Dia')\n",
        "    plt.ylabel('Temperatura Média (°C)')\n",
        "    plt.grid(True)\n",
        "    plt.show()\n",
        "\n",
        "    print(\"\\n\")\n"
      ],
      "metadata": {
        "id": "NhlDh4n4S23W"
      },
      "execution_count": null,
      "outputs": []
    },
    {
      "cell_type": "markdown",
      "source": [
        "### 2 - Quais temperaturas normalmente levam a máquina a parar de funcionar?\n"
      ],
      "metadata": {
        "id": "-WjD6yMIokyc"
      }
    },
    {
      "cell_type": "code",
      "source": [
        "maxFuncionando = df[df['Desligou'] == 0]['Temperatura'].max()\n",
        "minNaoFuncionando = df[df['Desligou'] == 1]['Temperatura'].min()\n",
        "\n",
        "sns.stripplot(x='Desligou', y='Temperatura', data=df, jitter=True, alpha=0.5)\n",
        "plt.title('Temperatura vs. estado do equipamento (com Jitter)')\n",
        "plt.xlabel('Máquina Parou (0 = Não, 1 = Sim)')\n",
        "plt.ylabel('Temperatura (°C)')\n",
        "plt.hlines(y=[maxFuncionando, minNaoFuncionando], xmin=-0.5, xmax=1.5, colors='red', linestyles='dashed')\n",
        "plt.text(x=0.5, y=minNaoFuncionando - 1, s=minNaoFuncionando, color='red' )\n",
        "plt.text(x=0.5, y=maxFuncionando + 0.5, s=maxFuncionando, color='red' )\n",
        "plt.show()"
      ],
      "metadata": {
        "id": "RdlYfy1Iordj"
      },
      "execution_count": null,
      "outputs": []
    },
    {
      "cell_type": "code",
      "source": [
        "df['Sinais'].value_counts().sort_index().plot(kind='bar')\n",
        "plt.title('Distribuição da quantidade de Sinais coletados')\n",
        "plt.xlabel('Quantidade de Sinais')\n",
        "plt.ylabel('Frequência')\n",
        "plt.show()"
      ],
      "metadata": {
        "id": "KZ7DpXySqvIS"
      },
      "execution_count": null,
      "outputs": []
    },
    {
      "cell_type": "code",
      "source": [
        "sns.boxplot(x='Sinais', y='Temperatura', hue='Desligou', data=df)\n",
        "plt.title('Temperatura vs. sinais por estado do equipamento')\n",
        "plt.xlabel('Sinais')\n",
        "plt.ylabel('Temperatura (°C)')\n",
        "plt.legend(title='Desligou')\n",
        "plt.show()\n"
      ],
      "metadata": {
        "id": "Wq9jZ3XwrVgC"
      },
      "execution_count": null,
      "outputs": []
    },
    {
      "cell_type": "markdown",
      "source": [
        "# Classificação com Regressão Logística"
      ],
      "metadata": {
        "id": "7RCqr44lM8Cx"
      }
    },
    {
      "cell_type": "code",
      "source": [
        "X = df[colunas_numericas] # Features\n",
        "y = df['Desligou'] # Target"
      ],
      "metadata": {
        "id": "qZAUOHkrFjzr"
      },
      "execution_count": null,
      "outputs": []
    },
    {
      "cell_type": "code",
      "source": [
        "X_train, X_test, y_train, y_test = train_test_split(X, y, test_size=0.3, random_state=42, stratify=y)\n",
        "print(f\"Tamanho do Treino: {X_train.shape}, Tamanho do Teste: {X_test.shape}\")\n"
      ],
      "metadata": {
        "id": "3bHMx6WnFj15"
      },
      "execution_count": null,
      "outputs": []
    },
    {
      "cell_type": "code",
      "source": [
        "# Escalonamento (importante para muitos modelos)\n",
        "X_train_scaled = scaler.fit_transform(X_train)\n",
        "X_test_scaled = scaler.transform(X_test)"
      ],
      "metadata": {
        "id": "qzu-zLCA1XEU"
      },
      "execution_count": null,
      "outputs": []
    },
    {
      "cell_type": "code",
      "source": [
        "seed = 42\n",
        "log_reg = LogisticRegression(random_state=seed)\n",
        "log_reg.fit(X_train_scaled, y_train)\n",
        "print(\"Modelo treinado!\")"
      ],
      "metadata": {
        "id": "kRsJiNuh1XJG"
      },
      "execution_count": null,
      "outputs": []
    },
    {
      "cell_type": "code",
      "source": [
        "print(\"\\nRealizando previsões e avaliando o modelo...\")\n",
        "y_pred = log_reg.predict(X_test_scaled)\n",
        "y_proba = log_reg.predict_proba(X_test_scaled) # Probabilidades para a classe 1 (Desligou)\n",
        "\n",
        "accuracy = accuracy_score(y_test, y_pred)\n",
        "print(f\"\\nAcurácia do Modelo: {accuracy:.4f}\")"
      ],
      "metadata": {
        "id": "ESP-nBB61XMH"
      },
      "execution_count": null,
      "outputs": []
    },
    {
      "cell_type": "code",
      "source": [
        "cm = confusion_matrix(y_test, y_pred)\n",
        "sns.heatmap(cm, annot=True, fmt='d', cmap='Blues')\n",
        "plt.xlabel('Previsto')\n",
        "plt.ylabel('Verdadeiro')\n",
        "plt.title('Matriz de Confusão')\n",
        "plt.show()\n",
        "\n",
        "print(classification_report(y_test, y_pred))"
      ],
      "metadata": {
        "id": "DaetX4tn1XOt"
      },
      "execution_count": null,
      "outputs": []
    },
    {
      "cell_type": "code",
      "source": [
        "# Coeficientes\n",
        "print(f\"\\nCoeficiente (Temperatura): {log_reg.coef_}\")\n",
        "print(f\"Intercepto: {log_reg.intercept_}\")\n"
      ],
      "metadata": {
        "id": "YIt8gMYy3vnx"
      },
      "execution_count": null,
      "outputs": []
    },
    {
      "cell_type": "code",
      "source": [
        "# Visualização da Curva Sigmoide (para uma feature)\n",
        "X_test_sorted_indices = np.argsort(X_test['Temperatura'])\n",
        "X_test_sorted = X_test['Temperatura'].iloc[X_test_sorted_indices]\n",
        "y_proba_lr_sorted = y_proba[X_test_sorted_indices, 1]\n",
        "\n",
        "y_test_sorted = y_test.iloc[X_test_sorted_indices]\n"
      ],
      "metadata": {
        "id": "y8MDmzDY4ITn"
      },
      "execution_count": null,
      "outputs": []
    },
    {
      "cell_type": "code",
      "source": [
        "jitter = 0.1\n",
        "y_jitter = y_test_sorted + np.random.uniform(-jitter, jitter, size=len(y_test_sorted))\n",
        "\n",
        "plt.scatter(X_test_sorted, y_jitter, color='gray', zorder=20, alpha=0.05, label='Dados Reais (Teste)')\n",
        "\n",
        "plt.plot(X_test_sorted, y_proba_lr_sorted, color='red', lw=3, label='Curva Sigmoide Predita')\n",
        "\n",
        "plt.ylabel('Probabilidade de Desligar / Estado Real')\n",
        "plt.xlabel('Temperatura (°C)')\n",
        "plt.title('Regressão Logística: Probabilidade de Desligar vs. Temperatura')\n",
        "plt.legend()\n",
        "plt.show()"
      ],
      "metadata": {
        "id": "TMLtkFr15Mk2"
      },
      "execution_count": null,
      "outputs": []
    },
    {
      "cell_type": "code",
      "source": [
        "def predizerQuebra(Temperatura):\n",
        "  input_scaled = scaler.transform(Temperatura)\n",
        "\n",
        "  predicted_class = log_reg.predict(input_scaled)\n",
        "  prediction_proba = log_reg.predict_proba(input_scaled)\n",
        "\n",
        "  predicted_class = log_reg.predict(input_scaled)\n",
        "  prediction_proba = log_reg.predict_proba(input_scaled)\n",
        "  prob_desligou = prediction_proba[0][1]\n",
        "\n",
        "  print(f\"\\nTemperatura informada: {Temperatura[0][0]}°C\")\n",
        "  print(f\"Classe Predita: {'Desligou' if predicted_class == 1 else 'Não Desligou'}\")\n",
        "  print(f\"Probabilidade de Desligar: {prob_desligou:.4f}\")\n",
        "\n",
        "  plotarPredicao(Temperatura[0][0], prob_desligou)"
      ],
      "metadata": {
        "id": "ey3y-IUJ95aX"
      },
      "execution_count": null,
      "outputs": []
    },
    {
      "cell_type": "code",
      "source": [
        "def plotarPredicao(Temperatura, prob_desligou):\n",
        "  X_test_sorted_indices = np.argsort(X_test['Temperatura'])\n",
        "  X_test_sorted = X_test['Temperatura'].iloc[X_test_sorted_indices]\n",
        "  y_proba_lr_sorted = y_proba[X_test_sorted_indices, 1]\n",
        "\n",
        "  y_test_sorted = y_test.iloc[X_test_sorted_indices]\n",
        "\n",
        "  jitter = 0.1\n",
        "  y_jitter = y_test_sorted + np.random.uniform(-jitter, jitter, size=len(y_test_sorted))\n",
        "  plt.scatter(X_test_sorted, y_jitter, color='gray', zorder=20, alpha=0.05, label='Dados Reais (Teste)')\n",
        "  plt.plot(X_test_sorted, y_proba_lr_sorted, color='red', lw=3, label='Curva Sigmoide Predita')\n",
        "\n",
        "  # Plote o ponto da temperatura de input e sua probabilidade predita\n",
        "  plt.scatter(Temperatura, prob_desligou, color='green', s=100, zorder=25, label=f'Input ({Temperatura}°C)')\n",
        "\n",
        "  plt.ylabel('Probabilidade de Desligar / Estado Real')\n",
        "  plt.xlabel('Temperatura (°C)')\n",
        "  plt.title('Regressão Logística: Probabilidade de Desligar vs. Temperatura com Input')\n",
        "  plt.legend()\n",
        "  plt.grid(True)\n",
        "  plt.show()"
      ],
      "metadata": {
        "id": "MS3kVkD4ECBB"
      },
      "execution_count": null,
      "outputs": []
    },
    {
      "cell_type": "code",
      "source": [
        "input_temperature = float(input(\"Por favor, digite a temperatura para previsão (ex: 25.5): \"))\n",
        "\n",
        "#input_temperature = float(25.0)\n",
        "input_sinais = float(10)\n",
        "\n",
        "novaTemperatura = np.array([[input_temperature, input_sinais]])\n",
        "\n",
        "predizerQuebra(novaTemperatura)"
      ],
      "metadata": {
        "id": "tCOw-eqj811p"
      },
      "execution_count": null,
      "outputs": []
    },
    {
      "cell_type": "code",
      "source": [],
      "metadata": {
        "id": "xioY_Gh6815K"
      },
      "execution_count": null,
      "outputs": []
    },
    {
      "cell_type": "code",
      "source": [],
      "metadata": {
        "id": "fUNUWfsl816x"
      },
      "execution_count": null,
      "outputs": []
    },
    {
      "cell_type": "markdown",
      "source": [
        "# Detecção de Anomalias com Isolation Forest"
      ],
      "metadata": {
        "id": "T7h4pfb6NDw1"
      }
    },
    {
      "cell_type": "markdown",
      "source": [],
      "metadata": {
        "id": "yRX3TgHR5k1L"
      }
    }
  ]
}