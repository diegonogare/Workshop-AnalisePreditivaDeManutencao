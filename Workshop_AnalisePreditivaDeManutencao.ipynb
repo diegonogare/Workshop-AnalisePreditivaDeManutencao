{
  "nbformat": 4,
  "nbformat_minor": 0,
  "metadata": {
    "colab": {
      "provenance": [],
      "collapsed_sections": [
        "XQ8L7iwhFrQS",
        "xiOxmFdNNU9i",
        "SuORE-hkNmaz",
        "wNcQrBqHMsaq",
        "T7h4pfb6NDw1"
      ],
      "authorship_tag": "ABX9TyOW73I/MTJc2v4RvE7UNk9F"
    },
    "kernelspec": {
      "name": "python3",
      "display_name": "Python 3"
    },
    "language_info": {
      "name": "python"
    }
  },
  "cells": [
    {
      "cell_type": "markdown",
      "source": [
        "# Setup do ambiente"
      ],
      "metadata": {
        "id": "XQ8L7iwhFrQS"
      }
    },
    {
      "cell_type": "code",
      "source": [
        "import pandas as pd\n",
        "import numpy as np\n",
        "import matplotlib.pyplot as plt\n",
        "import seaborn as sns\n",
        "from sklearn.model_selection import train_test_split\n",
        "from sklearn.preprocessing import StandardScaler\n",
        "from sklearn.linear_model import LogisticRegression\n",
        "from sklearn.metrics import confusion_matrix, classification_report, accuracy_score, roc_curve, auc\n",
        "from sklearn.ensemble import IsolationForest\n",
        "import warnings\n",
        "\n",
        "from sklearn import tree\n",
        "import graphviz\n",
        "\n",
        "from IPython.display import display\n",
        "\n",
        "import pickle\n",
        "\n",
        "warnings.filterwarnings('ignore')\n",
        "sns.set(style=\"whitegrid\")\n",
        "plt.rcParams['figure.figsize'] = (10, 7)\n",
        "\n",
        "print(\"Bibliotecas importadas com sucesso!\")"
      ],
      "metadata": {
        "id": "XDh5y4THFjgk"
      },
      "execution_count": null,
      "outputs": []
    },
    {
      "cell_type": "markdown",
      "source": [
        "# Carregamento dos Dados"
      ],
      "metadata": {
        "id": "tiKKzUhPF9lR"
      }
    },
    {
      "cell_type": "markdown",
      "source": [
        "## Carregar o dataset\n"
      ],
      "metadata": {
        "id": "xiOxmFdNNU9i"
      }
    },
    {
      "cell_type": "markdown",
      "source": [
        "Carregar o dataset diretamente do [Github](https://github.com/diegonogare/Workshop-AnalisePreditivaDeManutencao/blob/main/conjuntoDados.csv)."
      ],
      "metadata": {
        "id": "8K4GoCLgNc_g"
      }
    },
    {
      "cell_type": "code",
      "source": [
        "df = pd.read_csv('https://raw.githubusercontent.com/diegonogare/Workshop-AnalisePreditivaDeManutencao/refs/heads/main/conjuntoDados.csv',\n",
        "                 names=['ID', 'Timestamp', 'Temperatura', 'Sinais', 'Desligou'])"
      ],
      "metadata": {
        "id": "tAsNnkypLx8Y"
      },
      "execution_count": null,
      "outputs": []
    },
    {
      "cell_type": "code",
      "source": [
        "df['Timestamp'] = pd.to_datetime(df['Timestamp'])\n",
        "\n",
        "df['Dia'] = df['Timestamp'].dt.day\n",
        "df['DiaSemana'] = df['Timestamp'].dt.day_name()\n",
        "df['Hora'] = df['Timestamp'].dt.time\n",
        "\n",
        "df = df[df['Dia'] != (7)]\n",
        "df = df[df['Dia'] != (29)]\n"
      ],
      "metadata": {
        "id": "NXtPQuUjTOmX"
      },
      "execution_count": null,
      "outputs": []
    },
    {
      "cell_type": "markdown",
      "source": [
        "## Conhecer o básico do dataset"
      ],
      "metadata": {
        "id": "SuORE-hkNmaz"
      }
    },
    {
      "cell_type": "markdown",
      "source": [
        "Após o dataset ser carregado, é importante analisar seu conteúdo para conhecer o que há lá dentro."
      ],
      "metadata": {
        "id": "gqinTC8ZNqoO"
      }
    },
    {
      "cell_type": "code",
      "source": [
        "print(\"\\nDataset carregado com sucesso!\")\n",
        "print(\"Formato do dataset (linhas x colunas):\", df.shape)\n",
        "\n",
        "print(\"\\nPrimeiras 5 linhas do dataset:\")\n",
        "print(df.head())\n",
        "\n",
        "print(\"\\nInformações do dataset:\")\n",
        "df.info()\n",
        "\n",
        "print(\"\\nEstatística descritivas:\")\n",
        "print(df.describe())\n",
        "\n",
        "print(\"\\nValores nulos por Coluna:\")\n",
        "print(df.isnull().sum())"
      ],
      "metadata": {
        "id": "dtG4-Cn6LfVJ"
      },
      "execution_count": null,
      "outputs": []
    },
    {
      "cell_type": "markdown",
      "source": [
        "# Análise Exploratória Descritiva (EDA)"
      ],
      "metadata": {
        "id": "wNcQrBqHMsaq"
      }
    },
    {
      "cell_type": "code",
      "source": [
        "colunas_numericas = df.select_dtypes(include=np.number).columns.tolist()\n",
        "colunas_numericas\n",
        "\n",
        "colunas_numericas.remove('ID') #ID da transação\n",
        "colunas_numericas.remove('Desligou') #Flag se desligou ou não\n",
        "colunas_numericas\n"
      ],
      "metadata": {
        "id": "rPo4Z1n7Fj4D"
      },
      "execution_count": null,
      "outputs": []
    },
    {
      "cell_type": "code",
      "source": [
        "for col in colunas_numericas:\n",
        "    sns.histplot(df[col], kde=True, bins=30)\n",
        "    plt.title(f'Distribuição de {col}')\n",
        "    plt.xlabel(col)\n",
        "    plt.ylabel('Frequência')\n",
        "    plt.show()\n",
        "    print(\"\\n\")"
      ],
      "metadata": {
        "id": "4A8OxtlWFj6O"
      },
      "execution_count": null,
      "outputs": []
    },
    {
      "cell_type": "code",
      "source": [
        "for col in colunas_numericas:\n",
        "    sns.boxplot(x='Desligou', y=col, data=df)\n",
        "    plt.title(f'{col} vs. Desligou')\n",
        "    plt.show()\n",
        "    print(\"\\n\")"
      ],
      "metadata": {
        "id": "Dsir3lL3Fjuv"
      },
      "execution_count": null,
      "outputs": []
    },
    {
      "cell_type": "code",
      "source": [
        "#Pela exploração que fizemos, apesar de Dia ser um valor numério, não tem relação com o objetivo que temos. Vamos remover\n",
        "colunas_numericas.remove('Dia')"
      ],
      "metadata": {
        "id": "NTyfXNfNS2yZ"
      },
      "execution_count": null,
      "outputs": []
    },
    {
      "cell_type": "code",
      "source": [
        "correlation_matrix = df[colunas_numericas + ['Desligou']].corr()\n",
        "sns.heatmap(correlation_matrix, annot=True, cmap='coolwarm', fmt=\".2f\")\n",
        "plt.title('Matriz de Correlação')\n",
        "plt.show()"
      ],
      "metadata": {
        "id": "TTJVlAijFjxF"
      },
      "execution_count": null,
      "outputs": []
    },
    {
      "cell_type": "markdown",
      "source": [
        "### 1 - Quais horários a temperatura da fábrica é mais alta?"
      ],
      "metadata": {
        "id": "NyWpqdF8cB2O"
      }
    },
    {
      "cell_type": "code",
      "source": [
        "temperatura = df.copy()\n",
        "temperatura.drop(columns=['Timestamp', 'Dia', 'Sinais', 'Desligou'], inplace=True )\n",
        "\n",
        "temperatura.groupby('Hora')['Temperatura'].mean('Temperatura').plot(kind='line', marker='')\n",
        "plt.title('Temperatura Média por Hora do Dia')\n",
        "plt.xlabel('Hora do Dia')\n",
        "plt.ylabel('Temperatura Média (°C)')\n",
        "plt.grid(True)\n",
        "plt.show()\n"
      ],
      "metadata": {
        "id": "Z9ewhR3CS21a"
      },
      "execution_count": null,
      "outputs": []
    },
    {
      "cell_type": "code",
      "source": [
        "for dia in df['Dia'].unique():\n",
        "    temperaturaDiaria = df.copy()\n",
        "    temperaturaDiaria = temperaturaDiaria[temperaturaDiaria['Dia'] == dia]\n",
        "    temperaturaDiaria.drop(columns=['Timestamp', 'Sinais', 'Desligou'], inplace=True )\n",
        "    diaSemana = temperaturaDiaria['DiaSemana'].iloc[0]\n",
        "\n",
        "    temperaturaDiaria.groupby('Hora')['Temperatura'].mean('Temperatura').plot(kind='line', marker='')\n",
        "    plt.title(f'Temperatura Média por Hora do {dia} - {diaSemana}')\n",
        "    plt.xlabel('Hora do Dia')\n",
        "    plt.ylabel('Temperatura Média (°C)')\n",
        "    plt.grid(True)\n",
        "    plt.show()\n",
        "\n",
        "    print(\"\\n\")\n"
      ],
      "metadata": {
        "id": "NhlDh4n4S23W"
      },
      "execution_count": null,
      "outputs": []
    },
    {
      "cell_type": "markdown",
      "source": [
        "### 2 - Quais temperaturas normalmente levam a máquina a parar de funcionar?\n"
      ],
      "metadata": {
        "id": "-WjD6yMIokyc"
      }
    },
    {
      "cell_type": "code",
      "source": [
        "maxFuncionando = df[df['Desligou'] == 0]['Temperatura'].max()\n",
        "minNaoFuncionando = df[df['Desligou'] == 1]['Temperatura'].min()\n",
        "\n",
        "sns.stripplot(x='Desligou', y='Temperatura', data=df, jitter=True, alpha=0.5)\n",
        "plt.title('Temperatura vs. estado do equipamento (com Jitter)')\n",
        "plt.xlabel('Máquina Parou (0 = Não, 1 = Sim)')\n",
        "plt.ylabel('Temperatura (°C)')\n",
        "plt.hlines(y=[maxFuncionando, minNaoFuncionando], xmin=-0.5, xmax=1.5, colors='red', linestyles='dashed')\n",
        "plt.text(x=0.5, y=minNaoFuncionando - 1, s=minNaoFuncionando, color='red' )\n",
        "plt.text(x=0.5, y=maxFuncionando + 0.5, s=maxFuncionando, color='red' )\n",
        "plt.show()"
      ],
      "metadata": {
        "id": "RdlYfy1Iordj"
      },
      "execution_count": null,
      "outputs": []
    },
    {
      "cell_type": "code",
      "source": [
        "df['Sinais'].value_counts().sort_index().plot(kind='bar')\n",
        "plt.title('Distribuição da quantidade de Sinais coletados')\n",
        "plt.xlabel('Quantidade de Sinais')\n",
        "plt.ylabel('Frequência')\n",
        "plt.show()"
      ],
      "metadata": {
        "id": "KZ7DpXySqvIS"
      },
      "execution_count": null,
      "outputs": []
    },
    {
      "cell_type": "code",
      "source": [
        "sns.boxplot(x='Sinais', y='Temperatura', hue='Desligou', data=df)\n",
        "plt.title('Temperatura vs. sinais por estado do equipamento')\n",
        "plt.xlabel('Sinais')\n",
        "plt.ylabel('Temperatura (°C)')\n",
        "plt.legend(title='Desligou')\n",
        "plt.show()\n"
      ],
      "metadata": {
        "id": "Wq9jZ3XwrVgC"
      },
      "execution_count": null,
      "outputs": []
    },
    {
      "cell_type": "markdown",
      "source": [
        "# Classificação com Regressão Logística"
      ],
      "metadata": {
        "id": "7RCqr44lM8Cx"
      }
    },
    {
      "cell_type": "code",
      "source": [
        "X = df[colunas_numericas] # Features\n",
        "y = df['Desligou'] # Target"
      ],
      "metadata": {
        "id": "qZAUOHkrFjzr"
      },
      "execution_count": null,
      "outputs": []
    },
    {
      "cell_type": "code",
      "source": [
        "X_train, X_test, y_train, y_test = train_test_split(X, y, test_size=0.3, random_state=42, stratify=y)\n",
        "print(f\"Tamanho do Treino: {X_train.shape}, Tamanho do Teste: {X_test.shape}\")\n"
      ],
      "metadata": {
        "id": "3bHMx6WnFj15"
      },
      "execution_count": null,
      "outputs": []
    },
    {
      "cell_type": "code",
      "source": [
        "# Escalonamento (importante para muitos modelos)\n",
        "scaler = StandardScaler() # Create an instance of StandardScaler\n",
        "\n",
        "X_train_scaled = scaler.fit_transform(X_train)\n",
        "X_test_scaled = scaler.transform(X_test)"
      ],
      "metadata": {
        "id": "qzu-zLCA1XEU"
      },
      "execution_count": null,
      "outputs": []
    },
    {
      "cell_type": "code",
      "source": [
        "seed = 42\n",
        "log_reg = LogisticRegression(random_state=seed)\n",
        "log_reg.fit(X_train_scaled, y_train)\n",
        "print(\"Modelo treinado!\")"
      ],
      "metadata": {
        "id": "kRsJiNuh1XJG"
      },
      "execution_count": null,
      "outputs": []
    },
    {
      "cell_type": "code",
      "source": [
        "print(\"\\nRealizando previsões e avaliando o modelo...\")\n",
        "y_pred = log_reg.predict(X_test_scaled)\n",
        "y_proba = log_reg.predict_proba(X_test_scaled) # Probabilidades para a classe 1 (Desligou)\n",
        "\n",
        "accuracy = accuracy_score(y_test, y_pred)\n",
        "print(f\"\\nAcurácia do Modelo: {accuracy:.4f}\")"
      ],
      "metadata": {
        "id": "ESP-nBB61XMH"
      },
      "execution_count": null,
      "outputs": []
    },
    {
      "cell_type": "code",
      "source": [
        "cm = confusion_matrix(y_test, y_pred)\n",
        "sns.heatmap(cm, annot=True, fmt='d', cmap='Blues')\n",
        "plt.xlabel('Previsto')\n",
        "plt.ylabel('Verdadeiro')\n",
        "plt.title('Matriz de Confusão')\n",
        "plt.show()\n",
        "\n",
        "print(classification_report(y_test, y_pred))"
      ],
      "metadata": {
        "id": "DaetX4tn1XOt"
      },
      "execution_count": null,
      "outputs": []
    },
    {
      "cell_type": "code",
      "source": [
        "# Coeficientes\n",
        "print(f\"\\nCoeficiente (Temperatura): {log_reg.coef_}\")\n",
        "print(f\"Intercepto: {log_reg.intercept_}\")\n"
      ],
      "metadata": {
        "id": "YIt8gMYy3vnx"
      },
      "execution_count": null,
      "outputs": []
    },
    {
      "cell_type": "code",
      "source": [
        "# Visualização da Curva Sigmoide (para uma feature)\n",
        "X_test_sorted_indices = np.argsort(X_test['Temperatura'])\n",
        "X_test_sorted = X_test['Temperatura'].iloc[X_test_sorted_indices]\n",
        "y_proba_lr_sorted = y_proba[X_test_sorted_indices, 1]\n",
        "\n",
        "y_test_sorted = y_test.iloc[X_test_sorted_indices]\n"
      ],
      "metadata": {
        "id": "y8MDmzDY4ITn"
      },
      "execution_count": null,
      "outputs": []
    },
    {
      "cell_type": "code",
      "source": [
        "maxFuncionando = df[df['Desligou'] == 0]['Temperatura'].max()\n",
        "minNaoFuncionando = df[df['Desligou'] == 1]['Temperatura'].min()\n",
        "\n",
        "jitter = 0.1\n",
        "y_jitter = y_test_sorted + np.random.uniform(-jitter, jitter, size=len(y_test_sorted))\n",
        "\n",
        "plt.scatter(X_test_sorted, y_jitter, color='gray', zorder=20, alpha=0.05, label='Dados Reais (Teste)')\n",
        "plt.plot(X_test_sorted, y_proba_lr_sorted, color='red', lw=3, label='Curva Sigmoide Predita')\n",
        "\n",
        "plt.ylabel('Probabilidade de Desligar / Estado Real')\n",
        "plt.xlabel('Temperatura (°C)')\n",
        "plt.title('Regressão Logística: Probabilidade de Desligar vs. Temperatura')\n",
        "plt.legend()\n",
        "\n",
        "plt.vlines(x=[minNaoFuncionando, maxFuncionando], ymin=-0.25, ymax=1.25, colors='red', linestyles='dashed')\n",
        "\n",
        "plt.text(y=0.5, x=minNaoFuncionando - 1.5, s=minNaoFuncionando, color='red' )\n",
        "plt.text(y=0.5, x=maxFuncionando + 0.5, s=maxFuncionando, color='red' )\n",
        "\n",
        "plt.show()"
      ],
      "metadata": {
        "id": "TMLtkFr15Mk2"
      },
      "execution_count": null,
      "outputs": []
    },
    {
      "cell_type": "code",
      "source": [
        "def predizerQuebra(Temperatura):\n",
        "  input_scaled = scaler.transform(Temperatura)\n",
        "\n",
        "  predicted_class = log_reg.predict(input_scaled)\n",
        "  prediction_proba = log_reg.predict_proba(input_scaled)\n",
        "\n",
        "  predicted_class = log_reg.predict(input_scaled)\n",
        "  prediction_proba = log_reg.predict_proba(input_scaled)\n",
        "  prob_desligou = prediction_proba[0][1]\n",
        "\n",
        "  print(f\"\\nTemperatura informada: {Temperatura[0][0]}°C\")\n",
        "  print(f\"Classe Predita: {'Desligou' if predicted_class == 1 else 'Não Desligou'}\")\n",
        "  print(f\"Probabilidade de Desligar: {prob_desligou:.4f}\")\n",
        "\n",
        "  plotarPredicao(Temperatura[0][0], prob_desligou)"
      ],
      "metadata": {
        "id": "ey3y-IUJ95aX"
      },
      "execution_count": null,
      "outputs": []
    },
    {
      "cell_type": "code",
      "source": [
        "def plotarPredicao(Temperatura, prob_desligou):\n",
        "  X_test_sorted_indices = np.argsort(X_test['Temperatura'])\n",
        "  X_test_sorted = X_test['Temperatura'].iloc[X_test_sorted_indices]\n",
        "  y_proba_lr_sorted = y_proba[X_test_sorted_indices, 1]\n",
        "\n",
        "  y_test_sorted = y_test.iloc[X_test_sorted_indices]\n",
        "\n",
        "  jitter = 0.1\n",
        "  y_jitter = y_test_sorted + np.random.uniform(-jitter, jitter, size=len(y_test_sorted))\n",
        "  plt.scatter(X_test_sorted, y_jitter, color='gray', zorder=20, alpha=0.05, label='Dados Reais (Teste)')\n",
        "  plt.plot(X_test_sorted, y_proba_lr_sorted, color='red', lw=3, label='Curva Sigmoide Predita')\n",
        "\n",
        "  # Plote o ponto da temperatura de input e sua probabilidade predita\n",
        "  plt.scatter(Temperatura, prob_desligou, color='green', s=100, zorder=25, label=f'Input ({Temperatura}°C)')\n",
        "\n",
        "  plt.ylabel('Probabilidade de Desligar / Estado Real')\n",
        "  plt.xlabel('Temperatura (°C)')\n",
        "  plt.title('Regressão Logística: Probabilidade de Desligar vs. Temperatura com Input')\n",
        "  plt.legend()\n",
        "  plt.grid(True)\n",
        "  plt.show()"
      ],
      "metadata": {
        "id": "MS3kVkD4ECBB"
      },
      "execution_count": null,
      "outputs": []
    },
    {
      "cell_type": "code",
      "source": [
        "input_temperature = float(input(\"Por favor, digite a temperatura para previsão (ex: 25.5): \"))\n",
        "input_sinais = float(input(\"Por favor, digite a quantidade de Sinais para previsão (ex: 10): \"))\n",
        "\n",
        "novaTemperatura = np.array([[input_temperature, input_sinais]])\n",
        "\n",
        "predizerQuebra(novaTemperatura)"
      ],
      "metadata": {
        "id": "tCOw-eqj811p"
      },
      "execution_count": null,
      "outputs": []
    },
    {
      "cell_type": "code",
      "source": [
        "model_lr_filename = 'logistic_regression_model.pkl'\n",
        "with open(model_lr_filename, 'wb') as file:\n",
        "    pickle.dump(log_reg, file)\n",
        "print(f\"\\nModelo de Regressão Logística salvo como '{model_lr_filename}'\")"
      ],
      "metadata": {
        "id": "StiITLDKi_ik"
      },
      "execution_count": null,
      "outputs": []
    },
    {
      "cell_type": "markdown",
      "source": [
        "# Detecção de Anomalias com Isolation Forest"
      ],
      "metadata": {
        "id": "T7h4pfb6NDw1"
      }
    },
    {
      "cell_type": "code",
      "source": [
        "df_anomalias_detection = df.copy()"
      ],
      "metadata": {
        "id": "NIjciBl0F9SA"
      },
      "execution_count": null,
      "outputs": []
    },
    {
      "cell_type": "code",
      "source": [
        "# Função para gerar anomalias sintéticas (exemplo simples)\n",
        "def gerar_anomalias_sinteticas(df_input, n_anomalias):\n",
        "    col_temp = 'Temperatura'\n",
        "    col_param = 'Sinais'\n",
        "    fator_temp = 2\n",
        "    val_param_anomalo=20\n",
        "\n",
        "    df_mod = df_input.copy()\n",
        "    indices_anomalias = np.random.choice(df_mod.index, n_anomalias, replace=False)\n",
        "\n",
        "    # Criar uma coluna para marcar anomalias sintéticas (apenas para nossa verificação)\n",
        "    df_mod['anomaliaGerada'] = 0\n",
        "\n",
        "    for idx in indices_anomalias:\n",
        "        df_mod.loc[idx, col_temp] = df_mod.loc[idx, col_temp] * fator_temp # Anomalia de temperatura alta\n",
        "        if np.random.rand() > 0.5: # Aleatoriamente, também mudar o Sinal\n",
        "             df_mod.loc[idx, col_param] = val_param_anomalo # Um valor claramente fora do comum\n",
        "        #df_mod.loc = 1\n",
        "        df_mod.loc[idx, 'anomaliaGerada'] = 1\n",
        "\n",
        "    return df_mod"
      ],
      "metadata": {
        "id": "bkLQXdzuln3C"
      },
      "execution_count": null,
      "outputs": []
    },
    {
      "cell_type": "code",
      "source": [
        "# Gerar algumas anomalias artificiais (~2% do df)\n",
        "num_anomalias_artificiais = int(0.02 * len(df_anomalias_detection))\n",
        "df_com_sinteticas = gerar_anomalias_sinteticas(df_anomalias_detection, num_anomalias_artificiais)\n",
        "\n",
        "print(f\"{num_anomalias_artificiais} anomalias artificiai geradas\")\n",
        "print(f\"{len(df_com_sinteticas[df_com_sinteticas['anomaliaGerada'] == 1])} anomalias artificiais encontradas no dataset\")\n",
        "print(\"\\nExemplo de anomalias artificiais:\")\n",
        "print(df_com_sinteticas[df_com_sinteticas['anomaliaGerada'] == 1].head())\n"
      ],
      "metadata": {
        "id": "dKI6PSQ7ln5d"
      },
      "execution_count": null,
      "outputs": []
    },
    {
      "cell_type": "code",
      "source": [
        "# Selecionar features para o Isolation Forest\n",
        "features_if = ['Temperatura', 'Sinais']\n",
        "X_if = df_com_sinteticas[features_if]"
      ],
      "metadata": {
        "id": "9efa-EaJln8Q"
      },
      "execution_count": null,
      "outputs": []
    },
    {
      "cell_type": "code",
      "source": [
        "# 'auto' = o algoritmo estima o % de contaminação | pode-se definir um valor (0.05 para 5%)\n",
        "model_if = IsolationForest(n_estimators=100, contamination='auto', random_state=42)\n",
        "\n",
        "df_com_sinteticas['anomaly_if_pred'] = model_if.fit_predict(X_if)\n",
        "df_com_sinteticas['anomaly_score_if'] = model_if.decision_function(X_if)\n"
      ],
      "metadata": {
        "id": "9CRvpf5iln-l"
      },
      "execution_count": null,
      "outputs": []
    },
    {
      "cell_type": "code",
      "source": [
        "# Análise dos Resultados\n",
        "anomalias_detectadas = df_com_sinteticas[df_com_sinteticas['anomaly_if_pred'] == -1]\n",
        "print(f\"\\nTotal de anomalias detectadas pelo Isolation Forest: {len(anomalias_detectadas)}\")\n",
        "\n",
        "# Verificar quantas das anomalias sintéticas foram detectadas\n",
        "print(f\"\\nAnomalias sintéticas detectadas: {num_anomalias_artificiais} de {len(anomalias_detectadas)}\")\n",
        "\n",
        "print(f\"\\nExemplos de anomalias naturais detectadas ({len(anomalias_detectadas[anomalias_detectadas['anomaliaGerada'] == 0])}):\")\n",
        "print(anomalias_detectadas[anomalias_detectadas['anomaliaGerada'] == 0].head())\n",
        "\n",
        "print(f\"\\nExemplos de anomalias artificiais detectadas ({len(anomalias_detectadas[anomalias_detectadas['anomaliaGerada'] == 1])}):\")\n",
        "print(anomalias_detectadas[anomalias_detectadas['anomaliaGerada'] == 1].head())"
      ],
      "metadata": {
        "id": "c_Ul5hXFloBl"
      },
      "execution_count": null,
      "outputs": []
    },
    {
      "cell_type": "code",
      "source": [
        "sns.scatterplot(x='Temperatura', y='Sinais', hue='anomaly_if_pred', data=df_com_sinteticas,\n",
        "                palette={1: 'blue', -1: 'red'}, style='Desligou', sizes=(20, 200), alpha=0.5)\n",
        "plt.title('Detecção de Anomalias com Isolation Forest')\n",
        "plt.xlabel('Temperatura (°C)')\n",
        "plt.ylabel('Quantidade de Sinais')\n",
        "plt.legend(title='Anomalia = -1 \\n', bbox_to_anchor=(1.05, 1), loc='upper left')\n",
        "plt.show()"
      ],
      "metadata": {
        "id": "B1Rv6eL6nhdR"
      },
      "execution_count": null,
      "outputs": []
    },
    {
      "cell_type": "code",
      "source": [
        "# O índice em Python começa em 0 e o ID começa em 1, por isso há diferença entre os valores\n",
        "anomalias_artificiais = anomalias_detectadas.copy()\n",
        "anomalias_artificiais = anomalias_artificiais[anomalias_artificiais['anomaliaGerada'] == 1]\n",
        "\n",
        "ponto_anomalo_exemplo_idx = np.random.randint(low=1, high=len(anomalias_artificiais), size=1)\n",
        "ponto_anomalo_exemplo_features = anomalias_artificiais.iloc[ponto_anomalo_exemplo_idx].head()\n",
        "\n",
        "print(f\"\\nIndice da anomalia selecionada: {ponto_anomalo_exemplo_idx}\")\n",
        "print(f\"Features da anomalia selecionada: \\n{ponto_anomalo_exemplo_features}\")"
      ],
      "metadata": {
        "id": "ZU6efwOfJ3Qb"
      },
      "execution_count": null,
      "outputs": []
    },
    {
      "cell_type": "code",
      "source": [
        "single_tree_estimator = model_if.estimators_\n",
        "feature_names_for_tree = list(ponto_anomalo_exemplo_features.columns)\n",
        "print(feature_names_for_tree)"
      ],
      "metadata": {
        "id": "-jXqM6AUMg3m"
      },
      "execution_count": null,
      "outputs": []
    },
    {
      "cell_type": "code",
      "source": [
        "dot_data = tree.export_graphviz(single_tree_estimator[0],\n",
        "                                out_file=None,\n",
        "                                feature_names=features_if,\n",
        "                                filled=True,\n",
        "                                rounded=True,\n",
        "                                special_characters=True,\n",
        "                                impurity=False,\n",
        "                                proportion=False,\n",
        "                                max_depth=10)"
      ],
      "metadata": {
        "id": "d-9sJjHSNZHB"
      },
      "execution_count": null,
      "outputs": []
    },
    {
      "cell_type": "code",
      "source": [
        "graph = graphviz.Source(dot_data, format=\"png\")\n",
        "print(\"\\nVisualização da primeira iTree (profundidade limitada para exibição):\")\n",
        "graph.render(\"itree_visualization_ponto_anomalo\")\n",
        "\n",
        "\n",
        "#display(graph)"
      ],
      "metadata": {
        "id": "LUIWA8QyIX_P"
      },
      "execution_count": null,
      "outputs": []
    },
    {
      "cell_type": "code",
      "source": [
        "model_if_filename = 'isolation_forest_model.pkl'\n",
        "with open(model_if_filename, 'wb') as file:\n",
        "    pickle.dump(model_if, file)\n",
        "print(f\"\\nModelo Isolation Forest salvo como '{model_if_filename}'\")"
      ],
      "metadata": {
        "id": "DbJIhvd7iefw"
      },
      "execution_count": null,
      "outputs": []
    },
    {
      "cell_type": "markdown",
      "source": [
        "# Consumindo os modelos"
      ],
      "metadata": {
        "id": "bM9JG0nIhKnN"
      }
    },
    {
      "cell_type": "code",
      "source": [
        "caminho_lr = \"/content/\" + model_lr_filename\n",
        "\n",
        "with open(model_lr_filename, 'rb') as file:\n",
        "  loaded_lr_model = pickle.load(file)\n",
        "  print(f\"Modelo '{model_lr_filename}' carregado com sucesso.\")"
      ],
      "metadata": {
        "id": "yML53E4MiHC2"
      },
      "execution_count": null,
      "outputs": []
    },
    {
      "cell_type": "code",
      "source": [
        "caminho_if = \"/content/\" + model_if_filename\n",
        "\n",
        "with open(model_if_filename, 'rb') as file:\n",
        "  loaded_if_model = pickle.load(file)\n",
        "  print(f\"Modelo '{model_if_filename}' carregado com sucesso.\")\n"
      ],
      "metadata": {
        "id": "l-XpZQ0PiHGj"
      },
      "execution_count": null,
      "outputs": []
    },
    {
      "cell_type": "code",
      "source": [
        "def fazerPredicao(NovosDados):\n",
        "  NovosDadosScaled = scaler.transform(NovosDados)\n",
        "\n",
        "  pred_lr = loaded_lr_model.predict(NovosDadosScaled)\n",
        "  proba_lr = loaded_lr_model.predict_proba(NovosDadosScaled)\n",
        "\n",
        "  pred_if = loaded_if_model.predict(NovosDados) # Retorna 1 para inlier, -1 para outlier\n",
        "  score_if = loaded_if_model.decision_function(NovosDados) # Scores de anomalia\n",
        "\n",
        "  apresentarResultados(NovosDadosScaled, NovosDados, pred_lr, proba_lr, pred_if, score_if)"
      ],
      "metadata": {
        "id": "RhSVG_36hObb"
      },
      "execution_count": null,
      "outputs": []
    },
    {
      "cell_type": "code",
      "source": [
        "def apresentarResultados(NovosDadosScaled, NovosDados, pred_lr, proba_lr, pred_if, score_if):\n",
        "\n",
        "  print(\"\\n--- Resultado da Regressão Logística ---\")\n",
        "  print(f\"Para Entrada (escalonado): Temperatura = {NovosDadosScaled[0][0]}, Sinais = {NovosDadosScaled[0][1]}\")\n",
        "  if pred_lr == 1:\n",
        "    print(\"Predição: A máquina TEM CHANCE DE DESLIGAR.\")\n",
        "    print(f\"Probabilidade de desligar (classe 1): {proba_lr[0,1]:.4f}\")\n",
        "    print(f\"Probabilidade de não desligar (classe 0): {proba_lr[0,0]:.4f}\")\n",
        "  else:\n",
        "    print(\"Predição: A máquina TEM BAIXA CHANCE DE DESLIGAR.\")\n",
        "    print(f\"Probabilidade de desligar (classe 1): {proba_lr[0,1]:.4f}\")\n",
        "    print(f\"Probabilidade de não desligar (classe 0): {proba_lr[0,0]:.4f}\")\n",
        "\n",
        "  print(\"\\n--- Resultado do Isolation Forest ---\")\n",
        "  print(f\"Para Entrada: Temperatura = {NovosDados[0][0]}, Sinais = {NovosDados[0][1]}\")\n",
        "  if pred_if == -1:\n",
        "    print(\"Predição: O ponto é considerado uma ANOMALIA.\")\n",
        "  else:\n",
        "    print(\"Predição: O ponto é considerado NORMAL.\")\n",
        "  print(f\"Score de Anomalia (decision_function): {score_if[0]:.4f} (valores menores/mais negativos indicam maior anomalia)\")\n",
        "\n",
        "  plotarPredicao(NovosDados[0][0], proba_lr[0][1])"
      ],
      "metadata": {
        "id": "t_6Xt9CviHI1"
      },
      "execution_count": null,
      "outputs": []
    },
    {
      "cell_type": "code",
      "source": [
        "df_teste = df_com_sinteticas[['Temperatura', 'Sinais', 'Desligou', 'anomaliaGerada', 'anomaly_if_pred']].copy()\n",
        "print(\"\\nExemplos com detecção de anomalias\")\n",
        "print(df_teste[df_com_sinteticas['anomaly_if_pred'] == -1].head())\n",
        "print(\"\\nExemplos sem detecção de anomalias\")\n",
        "print(df_teste[df_com_sinteticas['anomaly_if_pred'] == 1].head())"
      ],
      "metadata": {
        "id": "vD3WFd3-EDyM"
      },
      "execution_count": null,
      "outputs": []
    },
    {
      "cell_type": "code",
      "source": [
        "temp_input = float(input(\"Digite o valor da Temperatura (ex: 25.5): \"))\n",
        "param_input = int(input(\"Digite o valor do Sinais (ex: 10): \"))\n",
        "\n",
        "novaEntrada = np.array([[temp_input, param_input]])\n",
        "\n",
        "fazerPredicao(novaEntrada)"
      ],
      "metadata": {
        "id": "yPnyJqnwkgts"
      },
      "execution_count": null,
      "outputs": []
    }
  ]
}