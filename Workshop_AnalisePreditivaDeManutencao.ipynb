{
  "nbformat": 4,
  "nbformat_minor": 0,
  "metadata": {
    "colab": {
      "provenance": [],
      "collapsed_sections": [
        "XQ8L7iwhFrQS"
      ],
      "authorship_tag": "ABX9TyPG8BLG1sQQS+XeOi9ddFUu"
    },
    "kernelspec": {
      "name": "python3",
      "display_name": "Python 3"
    },
    "language_info": {
      "name": "python"
    }
  },
  "cells": [
    {
      "cell_type": "markdown",
      "source": [
        "# Setup do ambiente"
      ],
      "metadata": {
        "id": "XQ8L7iwhFrQS"
      }
    },
    {
      "cell_type": "code",
      "source": [
        "import pandas as pd\n",
        "import numpy as np\n",
        "import matplotlib.pyplot as plt\n",
        "import seaborn as sns\n",
        "from sklearn.model_selection import train_test_split\n",
        "from sklearn.preprocessing import StandardScaler\n",
        "from sklearn.linear_model import LogisticRegression\n",
        "from sklearn.metrics import confusion_matrix, classification_report, accuracy_score\n",
        "from sklearn.ensemble import IsolationForest\n",
        "import warnings\n",
        "\n",
        "warnings.filterwarnings('ignore')\n",
        "\n",
        "sns.set(style=\"whitegrid\")\n",
        "plt.rcParams['figure.figsize'] = (12, 6)\n",
        "\n",
        "print(\"Bibliotecas importadas com sucesso!\")"
      ],
      "metadata": {
        "id": "XDh5y4THFjgk"
      },
      "execution_count": null,
      "outputs": []
    },
    {
      "cell_type": "markdown",
      "source": [
        "# Carregamento dos Dados"
      ],
      "metadata": {
        "id": "tiKKzUhPF9lR"
      }
    },
    {
      "cell_type": "markdown",
      "source": [
        "## Carregar o dataset\n"
      ],
      "metadata": {
        "id": "xiOxmFdNNU9i"
      }
    },
    {
      "cell_type": "markdown",
      "source": [
        "Carregar o dataset diretamente do [Github](https://github.com/diegonogare/Workshop-AnalisePreditivaDeManutencao/blob/main/conjuntoDados.csv)."
      ],
      "metadata": {
        "id": "8K4GoCLgNc_g"
      }
    },
    {
      "cell_type": "code",
      "source": [
        "df = pd.read_csv('https://raw.githubusercontent.com/diegonogare/Workshop-AnalisePreditivaDeManutencao/refs/heads/main/conjuntoDados.csv',\n",
        "                 names=['ID', 'Timestamp', 'Temperatura', 'ParametroOperacional', 'Desligou'])"
      ],
      "metadata": {
        "id": "tAsNnkypLx8Y"
      },
      "execution_count": null,
      "outputs": []
    },
    {
      "cell_type": "markdown",
      "source": [
        "## Conhecer o básico do dataset"
      ],
      "metadata": {
        "id": "SuORE-hkNmaz"
      }
    },
    {
      "cell_type": "markdown",
      "source": [
        "Após o dataset ser carregado, é importante analisar seu conteúdo para conhecer o que há lá dentro."
      ],
      "metadata": {
        "id": "gqinTC8ZNqoO"
      }
    },
    {
      "cell_type": "code",
      "source": [
        "print(\"\\nDataset carregado com sucesso!\")\n",
        "print(\"Formato do dataset (linhas x colunas):\", df.shape)\n",
        "\n",
        "print(\"\\nPrimeiras 5 linhas do dataset:\")\n",
        "print(df.head())\n",
        "\n",
        "print(\"\\nInformações do dataset:\")\n",
        "df.info()\n",
        "\n",
        "print(\"\\nEstatística descritivas:\")\n",
        "print(df.describe())\n",
        "\n",
        "print(\"\\nValores nulos por Coluna:\")\n",
        "print(df.isnull().sum())"
      ],
      "metadata": {
        "id": "dtG4-Cn6LfVJ"
      },
      "execution_count": null,
      "outputs": []
    },
    {
      "cell_type": "markdown",
      "source": [
        "# Análise Exploratória Descritiva (EDA)"
      ],
      "metadata": {
        "id": "wNcQrBqHMsaq"
      }
    },
    {
      "cell_type": "code",
      "source": [],
      "metadata": {
        "id": "Dsir3lL3Fjuv"
      },
      "execution_count": null,
      "outputs": []
    },
    {
      "cell_type": "code",
      "source": [],
      "metadata": {
        "id": "TTJVlAijFjxF"
      },
      "execution_count": null,
      "outputs": []
    },
    {
      "cell_type": "markdown",
      "source": [
        "# Classificação com Regressão Logística"
      ],
      "metadata": {
        "id": "7RCqr44lM8Cx"
      }
    },
    {
      "cell_type": "code",
      "source": [],
      "metadata": {
        "id": "qZAUOHkrFjzr"
      },
      "execution_count": null,
      "outputs": []
    },
    {
      "cell_type": "code",
      "source": [],
      "metadata": {
        "id": "3bHMx6WnFj15"
      },
      "execution_count": null,
      "outputs": []
    },
    {
      "cell_type": "markdown",
      "source": [
        "# Detecção de Anomalias com Isolation Forest"
      ],
      "metadata": {
        "id": "T7h4pfb6NDw1"
      }
    },
    {
      "cell_type": "code",
      "source": [],
      "metadata": {
        "id": "rPo4Z1n7Fj4D"
      },
      "execution_count": null,
      "outputs": []
    },
    {
      "cell_type": "code",
      "source": [],
      "metadata": {
        "id": "4A8OxtlWFj6O"
      },
      "execution_count": null,
      "outputs": []
    }
  ]
}